{
 "cells": [
  {
   "cell_type": "code",
   "execution_count": 1,
   "id": "4d3e9845",
   "metadata": {},
   "outputs": [],
   "source": [
    "from ar_corrector.corrector import Corrector\n",
    "corr = Corrector()"
   ]
  },
  {
   "cell_type": "code",
   "execution_count": 2,
   "id": "18313750",
   "metadata": {},
   "outputs": [],
   "source": [
    "import json"
   ]
  },
  {
   "cell_type": "code",
   "execution_count": 3,
   "id": "be840ff0",
   "metadata": {},
   "outputs": [],
   "source": [
    "with open('spical_words.json', 'r', encoding='utf-8') as file:\n",
    "    spical_words = json.load(file)\n",
    "with open('ar_chars_dict.json', 'r', encoding='utf-8') as file:\n",
    "    ar_chars_dict = json.load(file)"
   ]
  },
  {
   "cell_type": "code",
   "execution_count": 11,
   "id": "f2ebda68",
   "metadata": {},
   "outputs": [],
   "source": [
    "import customtkinter\n",
    "import tkinterDnD\n",
    "import tkinter as tk\n",
    "\n",
    "def translate_text():\n",
    "    input_text = entry.get()\n",
    "    translated_text = Transltion(input_text)  \n",
    "    T_box.configure(text=translated_text)\n",
    "\n",
    "def Transltion(text : str):\n",
    "    words= text.split()\n",
    "    answer=''\n",
    "    for word in words:\n",
    "        try:\n",
    "            answer+=spical_words[word]\n",
    "        except KeyError:\n",
    "            T_word=''\n",
    "            for cch in word:\n",
    "                try:\n",
    "                    T_word += ar_chars_dict[cch]\n",
    "                except KeyError:\n",
    "                    T_word += cch\n",
    "            if corr.spell_correct(T_word)==True:\n",
    "                answer+=T_word\n",
    "            else:\n",
    "                answer+=corr.spell_correct(T_word)[0][0]\n",
    "        answer+=' '\n",
    "    answer=answer[:-1]\n",
    "    return answer\n",
    "\n",
    "def radiobutton_event():\n",
    "    v= radio_var.get()\n",
    "    if v==1:\n",
    "        customtkinter.set_appearance_mode(\"light\")\n",
    "    else:\n",
    "        customtkinter.set_appearance_mode(\"dark\")\n",
    "        \n",
    "    \n",
    "customtkinter.set_ctk_parent_class(tkinterDnD.Tk)\n",
    "\n",
    "customtkinter.set_appearance_mode(\"light\")  \n",
    "customtkinter.set_default_color_theme(\"green\")  \n",
    "\n",
    "app = customtkinter.CTk()\n",
    "app.geometry(\"700x380\")\n",
    "app.title(\"Frankoo Translator\")\n",
    "\n",
    "\n",
    "the_frame = customtkinter.CTkFrame(master=app)\n",
    "the_frame.pack(pady=20, padx=60, fill=\"both\", expand=True)\n",
    "\n",
    "entry = customtkinter.CTkEntry(master=the_frame, placeholder_text=\"Enter Your Text\",width=500,height=50,font=(\"Berlin Sans FB\",26))\n",
    "entry.pack(pady=10, padx=10)\n",
    "\n",
    "button_1 = customtkinter.CTkButton(master=the_frame, command=translate_text,text='Translate',width=200,height=50)\n",
    "button_1.pack(pady=10, padx=10)\n",
    "\n",
    "T_box = customtkinter.CTkLabel(master=the_frame,text='  ',corner_radius=20,font=(\"Dubai\", 26),fg_color=\"white\",width=500,height=70,text_color=\"black\")\n",
    "T_box.pack(pady=10, padx=10)\n",
    "\n",
    "radio_var = tk.IntVar(value=1)\n",
    "radiobutton_1 = customtkinter.CTkRadioButton(master=the_frame, text=\"Light Mode\",\n",
    "                                             command=radiobutton_event, variable= radio_var, value=1,width=10,height=10)\n",
    "radiobutton_1.pack(pady=10, padx=10)\n",
    "radiobutton_2 = customtkinter.CTkRadioButton(master=the_frame, text=\"Dark Mode\",\n",
    "                                             command=radiobutton_event, variable= radio_var, value=2,width=10,height=10)\n",
    "radiobutton_2.pack(pady=10, padx=10)\n",
    "\n",
    "app.mainloop()"
   ]
  },
  {
   "cell_type": "code",
   "execution_count": 4,
   "id": "c4b7900b",
   "metadata": {},
   "outputs": [],
   "source": [
    "\n"
   ]
  },
  {
   "cell_type": "code",
   "execution_count": null,
   "id": "cbbc0aab",
   "metadata": {},
   "outputs": [],
   "source": []
  }
 ],
 "metadata": {
  "kernelspec": {
   "display_name": "Python 3 (ipykernel)",
   "language": "python",
   "name": "python3"
  },
  "language_info": {
   "codemirror_mode": {
    "name": "ipython",
    "version": 3
   },
   "file_extension": ".py",
   "mimetype": "text/x-python",
   "name": "python",
   "nbconvert_exporter": "python",
   "pygments_lexer": "ipython3",
   "version": "3.11.4"
  }
 },
 "nbformat": 4,
 "nbformat_minor": 5
}
